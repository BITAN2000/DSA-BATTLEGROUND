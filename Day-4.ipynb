{
 "cells": [
  {
   "cell_type": "raw",
   "id": "33dee05f-3752-4e2a-89af-894d73d7d186",
   "metadata": {},
   "source": [
    "Q7) MINIMUM DIFFERENCE BETWEEN HIGHEST AND LOWEST OF K SCORES\n",
    "\n",
    "You are given a 0-indexed integer array nums, where nums[i] represents the scores of the ith student. You are also given an integer k.\n",
    "\n",
    "Pick the scores of any k students from the array so that the difference between the highest and the lowest of the k scores is minimized.\n",
    "\n",
    "Return the minimum possible difference.\n",
    "\n",
    "TEST CASES\n",
    "\n",
    "Input: nums = [90], k=1\n",
    "Output: 0\n",
    "Explain: one way which is 990 so diff is zero\n",
    "\n",
    "Input: nums = [9,4,1,7], k=2\n",
    "Output: 2\n",
    "Explain: min of all differences"
   ]
  },
  {
   "cell_type": "code",
   "execution_count": 10,
   "id": "1d3d18db-56f9-4115-870c-21b4fee9f945",
   "metadata": {},
   "outputs": [
    {
     "name": "stdout",
     "output_type": "stream",
     "text": [
      "2\n"
     ]
    }
   ],
   "source": [
    "def minDifferenceAmongMaxMin(arr, N, K): \n",
    "\tarr.sort() \n",
    "\tres = 2147483647 \n",
    "\tfor i in range((N - K) + 1):  \n",
    "\t\tcurSeqDiff = arr[i + K - 1] - arr[i] \n",
    "\t\tres = min(res, curSeqDiff) \n",
    "\treturn res \n",
    " \n",
    "arr = [9,4,1,7] \n",
    "N = len(arr) \n",
    "K = 2\n",
    "print(minDifferenceAmongMaxMin(arr, N, K)) "
   ]
  },
  {
   "cell_type": "raw",
   "id": "d9a89113-e60f-448c-827a-77e3e9d7b638",
   "metadata": {},
   "source": [
    "Q8) MINIMIZE SIZE SUBARRAY SUM\n",
    "\n",
    "Given an array of positive integers nums and a positive integer target, return the minimal length of a subarray whose sum is greater than or equal to target. If there is no such subarray, return 0 instead.\n",
    "\n",
    "TEST CASES\n",
    "\n",
    "Input: target = 7, nums = [2,3,1,2,4,3]\n",
    "Output: 2\n",
    "Explanation: The subarray [4,3] has the minimal length under the problem constraint.\n",
    "\n",
    "Input: target = 4, nums = [1,4,4]\n",
    "Output: 1\n",
    "\n",
    "Input: target = 11, nums = [1,1,1,1,1,1,1,1]\n",
    "Output: 0"
   ]
  },
  {
   "cell_type": "code",
   "execution_count": 12,
   "id": "0a9e78f4-5a56-47e3-9068-7f7f3167e624",
   "metadata": {},
   "outputs": [
    {
     "name": "stdout",
     "output_type": "stream",
     "text": [
      "3\n"
     ]
    }
   ],
   "source": []
  },
  {
   "cell_type": "code",
   "execution_count": null,
   "id": "ca0cca8b-71ea-489c-98ce-0296b3c946d4",
   "metadata": {},
   "outputs": [],
   "source": []
  }
 ],
 "metadata": {
  "kernelspec": {
   "display_name": "Python 3 (ipykernel)",
   "language": "python",
   "name": "python3"
  },
  "language_info": {
   "codemirror_mode": {
    "name": "ipython",
    "version": 3
   },
   "file_extension": ".py",
   "mimetype": "text/x-python",
   "name": "python",
   "nbconvert_exporter": "python",
   "pygments_lexer": "ipython3",
   "version": "3.12.4"
  }
 },
 "nbformat": 4,
 "nbformat_minor": 5
}
