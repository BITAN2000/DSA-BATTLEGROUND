{
 "cells": [
  {
   "cell_type": "raw",
   "id": "917f1405-53ad-4f5e-9cdd-60ce3fe7db34",
   "metadata": {},
   "source": [
    "Q9) FIND PEAK ELEMENT\n",
    "\n",
    "A peak element is an element that is strictly greater than its neighbours. Given a 0-indexed integer array nums, find a peak element, and return its index.. If the array contains multiple peaks, return the index to any of the peaks. You may imagine that nums{-1} = nums{n} = -infinity. In other words, an element is always considered to be strictly greater than a neighbour that isoutside the array.\n",
    "\n",
    "TEST CASES\n",
    "\n",
    "Input: nums = [1,2,3,1]\n",
    "Output: 2\n",
    "Explain: 3 is a peak element at index 2.\n",
    "\n",
    "Input: nums = [1,2,1,3,5,6,4]\n",
    "Output: 5"
   ]
  },
  {
   "cell_type": "code",
   "execution_count": 4,
   "id": "f1c4e83c-fec4-4e8e-a4ce-60a324bc811f",
   "metadata": {},
   "outputs": [
    {
     "name": "stdout",
     "output_type": "stream",
     "text": [
      "2\n",
      "5\n"
     ]
    }
   ],
   "source": [
    "def find_peak_element(nums):\n",
    "    left, right = 0, len(nums) - 1\n",
    "    \n",
    "    while left < right:\n",
    "        mid = (left + right) // 2\n",
    "        \n",
    "        if nums[mid] > nums[mid + 1]:\n",
    "            right = mid\n",
    "        else:\n",
    "            left = mid + 1\n",
    "    \n",
    "    return left\n",
    "\n",
    "# Test cases\n",
    "print(find_peak_element([1,2,3,1]))\n",
    "print(find_peak_element([1,2,1,3,5,6,4]))"
   ]
  },
  {
   "cell_type": "raw",
   "id": "2791bae4-442c-4817-b555-687ec4726a56",
   "metadata": {},
   "source": [
    "Q10) LARGEST NUMBER\n",
    "\n",
    "Given a list of non-negative integers nums, arrange them such that they form the largest number and return it. Since the result may be very large, so you need to return a string instead of an integer.\n",
    "\n",
    "TEST CASES\n",
    "\n",
    "INPUT: NUMS = [10,2]\n",
    "OUTPUT: \"210\"\n",
    "\n",
    "INPUT: NUMS = [3,30,34,5,9]\n",
    "OUOTPUT: \"9534330\""
   ]
  },
  {
   "cell_type": "code",
   "execution_count": 6,
   "id": "924e9d99-89c4-498b-be2c-b923fd8ad839",
   "metadata": {},
   "outputs": [
    {
     "name": "stdout",
     "output_type": "stream",
     "text": [
      "210\n",
      "9534330\n"
     ]
    }
   ],
   "source": [
    "from functools import cmp_to_key\n",
    "\n",
    "def compare(x, y):\n",
    "    if x + y > y + x:\n",
    "        return -1\n",
    "    else:\n",
    "        return 1\n",
    "\n",
    "def largest_number(nums):\n",
    "    nums = list(map(str, nums))  # Convert all numbers to strings\n",
    "    nums.sort(key=cmp_to_key(compare))\n",
    "    \n",
    "    result = ''.join(nums)\n",
    "    \n",
    "    return '0' if result[0] == '0' else result\n",
    "\n",
    "print(largest_number([10,2]))\n",
    "print(largest_number([3,30,34,5,9]))"
   ]
  },
  {
   "cell_type": "code",
   "execution_count": null,
   "id": "c9b3d96f-9a90-4d18-b339-2eae3a70b1ab",
   "metadata": {},
   "outputs": [],
   "source": []
  }
 ],
 "metadata": {
  "kernelspec": {
   "display_name": "Python 3 (ipykernel)",
   "language": "python",
   "name": "python3"
  },
  "language_info": {
   "codemirror_mode": {
    "name": "ipython",
    "version": 3
   },
   "file_extension": ".py",
   "mimetype": "text/x-python",
   "name": "python",
   "nbconvert_exporter": "python",
   "pygments_lexer": "ipython3",
   "version": "3.12.4"
  }
 },
 "nbformat": 4,
 "nbformat_minor": 5
}
