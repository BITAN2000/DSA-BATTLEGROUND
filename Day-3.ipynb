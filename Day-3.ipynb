{
 "cells": [
  {
   "cell_type": "raw",
   "id": "3f682eda-1b8d-4120-97db-ad5af9b1ffff",
   "metadata": {},
   "source": [
    "Q5) PRODUCT OF ARRAY EXCEPT SELF\n",
    "\n",
    "Given an integer array nums, return an array answer such that answer[i] is equal to the products of all the elements of nums except nums[i].\n",
    "\n",
    "TEST CASES\n",
    "\n",
    "Input: nums = [1,2,3,4]\n",
    "Output: [24,12,8,6]\n",
    "\n",
    "Input: nums = [-1,1,0,-3,3]\n",
    "Output: [0,0,9,0,0]"
   ]
  },
  {
   "cell_type": "code",
   "execution_count": 6,
   "id": "a4fa7a91-e7c5-4958-8c47-94e71e44af8f",
   "metadata": {},
   "outputs": [
    {
     "name": "stdout",
     "output_type": "stream",
     "text": [
      "24 12 8 6\n",
      "0 0 9 0 0\n"
     ]
    }
   ],
   "source": [
    "def PROD(arr):\n",
    "    n = len(arr)\n",
    "    res = [1] * n\n",
    "    for i in range(n):\n",
    "        for j in range(n):\n",
    "            if i != j:\n",
    "                res[i] *= arr[j]\n",
    "    return res\n",
    "\n",
    "arr = [1,2,3,4]\n",
    "res = PROD(arr)\n",
    "print(\" \".join(map(str, res)))\n",
    "\n",
    "arr = [-1,1,0,-3,3]\n",
    "res = PROD(arr)\n",
    "print(\" \".join(map(str, res)))"
   ]
  },
  {
   "cell_type": "raw",
   "id": "e4ee935f-3303-442f-a730-3b67a9ea1218",
   "metadata": {},
   "source": [
    "Q6) LONGEST SUBSTRING WITHOUT REPEATING CHARACTERS\n",
    "\n",
    "Given a string s, b find the length of the longest substring without duplicate characters.\n",
    "\n",
    "TEST CASES\n",
    "\n",
    "Input: s = \"abcabcbb\"\n",
    "Output: 3\n",
    "\n",
    "Input: s = \"bbbb\"\n",
    "Output: 1\n",
    "\n",
    "Input: \"pwwkkew\"\n",
    "Output: 3"
   ]
  },
  {
   "cell_type": "code",
   "execution_count": null,
   "id": "e4f5a71d-329e-4e1f-8b98-7839f08b0817",
   "metadata": {},
   "outputs": [],
   "source": [
    "MAX_CHAR = 26\n",
    "\n",
    "def longestUniqueSubstr(s):\n",
    "    n = len(s)\n",
    "    res = 0\n",
    "    for i in range(n):\n",
    "        vis = [False] * MAX_CHAR\n",
    "        for j in range(i, n):\n",
    "            if vis[ord(s[j]) - ord('a')] == True:\n",
    "                break\n",
    "            else:\n",
    "                res = max(res, j - i + 1)\n",
    "                vis[ord(s[j]) - ord('a')] = True\n",
    "    return res\n",
    "\n",
    "s = \"abcabcbb\"\n",
    "print(longestUniqueSubstr(s))\n",
    "\n",
    "s = \"bbbb\"\n",
    "print(longestUniqueSubstr(s))\n",
    "\n",
    "s = \"pwwkkew\"\n",
    "print(longestUniqueSubstr(s))"
   ]
  }
 ],
 "metadata": {
  "kernelspec": {
   "display_name": "Python 3 (ipykernel)",
   "language": "python",
   "name": "python3"
  },
  "language_info": {
   "codemirror_mode": {
    "name": "ipython",
    "version": 3
   },
   "file_extension": ".py",
   "mimetype": "text/x-python",
   "name": "python",
   "nbconvert_exporter": "python",
   "pygments_lexer": "ipython3",
   "version": "3.12.4"
  }
 },
 "nbformat": 4,
 "nbformat_minor": 5
}
