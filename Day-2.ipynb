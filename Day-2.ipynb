{
 "cells": [
  {
   "cell_type": "raw",
   "id": "4417b543-d4b4-468d-b4c3-0d2ac7ba73d0",
   "metadata": {},
   "source": [
    "Q3) Length of Last Word\n",
    "\n",
    "You are given a sentence s that contains words and spaces. Your task is to find the length of the last word in the sentence.\n",
    "\n",
    "Note:\n",
    "1. A word is a group of letters without spaces.\n",
    "2. The sentence may have extra spaces at the beginning, middle, or end.\n",
    "3. You must ignore the spaces and focus only on the words.\n",
    "\n",
    "TEST CASES:\n",
    "\n",
    "Example:\n",
    "\n",
    "Input: s= \"Learn Python\"        Output: 6        Explanation: The last word is \"Python\", having 6 letters.\n",
    "Input: s= \"Coding is fun\"       Output: 3        Explanation: The last word is \"Fun\", having 3 letters."
   ]
  },
  {
   "cell_type": "code",
   "execution_count": 3,
   "id": "b02f680e-7f19-4d45-8d8e-56c1650a81ca",
   "metadata": {},
   "outputs": [
    {
     "name": "stdout",
     "output_type": "stream",
     "text": [
      "6\n",
      "3\n"
     ]
    }
   ],
   "source": [
    "# ANSWER\n",
    "\n",
    "def length(str):\n",
    "    lst = list(str.split(\" \"))\n",
    "    return len(lst[-1])\n",
    "\n",
    "s = \"Learn Python\"\n",
    "print(length(s))\n",
    "\n",
    "s = \"Coding is fun\"\n",
    "print(length(s))"
   ]
  },
  {
   "cell_type": "raw",
   "id": "be91bd99-6915-4782-b13e-e66c9307428e",
   "metadata": {},
   "source": [
    "Q4) Find first and last position of elements in sorted array\n",
    "\n",
    "Given an array of integers nums sorted in ascending order, find the starting and ending position of a given target value. If target is not found in the array, return[-1,-1]\n",
    "\n",
    "TEST CASES:\n",
    "\n",
    "Example:\n",
    "\n",
    "Input: nums = [5,7,7,8,8,10], target = 8       Output: [3,4]\n",
    "Input: nums = [], target = 0                   Output: [-1,-1]"
   ]
  },
  {
   "cell_type": "code",
   "execution_count": 9,
   "id": "8964b013-d83e-4d19-b8d2-818ae59bb816",
   "metadata": {},
   "outputs": [
    {
     "name": "stdout",
     "output_type": "stream",
     "text": [
      "[3, 4]\n",
      "[-1, -1]\n"
     ]
    }
   ],
   "source": [
    "# ANSWER\n",
    "\n",
    "def find(arr, x):\n",
    "    n = len(arr)\n",
    "\n",
    "    first = -1\n",
    "    last = -1\n",
    "    \n",
    "    for i in range(n):\n",
    "\n",
    "        if x != arr[i]:\n",
    "            continue\n",
    "        \n",
    "        if first == -1:\n",
    "            first = i\n",
    "\n",
    "        last = i\n",
    "    result = [first, last]\n",
    "    return result\n",
    "\n",
    "nums = [5,7,7,8,8,10]\n",
    "target = 8\n",
    "result = find(nums, target)\n",
    "print(result)\n",
    "\n",
    "nums = []\n",
    "target = 0\n",
    "result = find(nums, target)\n",
    "print(result)"
   ]
  }
 ],
 "metadata": {
  "kernelspec": {
   "display_name": "Python 3 (ipykernel)",
   "language": "python",
   "name": "python3"
  },
  "language_info": {
   "codemirror_mode": {
    "name": "ipython",
    "version": 3
   },
   "file_extension": ".py",
   "mimetype": "text/x-python",
   "name": "python",
   "nbconvert_exporter": "python",
   "pygments_lexer": "ipython3",
   "version": "3.12.4"
  }
 },
 "nbformat": 4,
 "nbformat_minor": 5
}
