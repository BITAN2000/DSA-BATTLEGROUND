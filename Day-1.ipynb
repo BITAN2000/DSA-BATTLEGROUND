{
 "cells": [
  {
   "cell_type": "raw",
   "id": "c81f6030-94ca-4525-8f6e-07ab7ff56c93",
   "metadata": {},
   "source": [
    "Q1) SORT TUPLES BY SUM OF ELEMENTS\n",
    "\n",
    "You are given a list of tuples, where each tuple contains exactly two integers. Write a function that sorts this list in ascending order based on the sum of the integers in each tuple and returns the sorted list.\n",
    "\n",
    "FUNCTION SIGNATURE\n",
    "Def sort_by_tuple_sum(lst:list[tuple])->list[tuple]:\n",
    "Pass\n",
    "\n",
    "TEST CASES\n",
    "1.\tInput: [(3,1),(2,2),(5,-1),(0,0)]\t\t\tOutput: [(0,0),(3,1),(2,2),(5,-1)]\n",
    "2.\tInput: [(7,3),(1,2),(4,5),(0,1)]\t\t\tOutput: [(0,1),(1,2),(4,5),(7,3)]\n",
    "3.\tInput: [(8,-3),(1,1),(2,0),(5,5),(3,2)]\t\tOutput: [(1,1), (2,0), (8,-3), (3,2), (5,5)]\n"
   ]
  },
  {
   "cell_type": "code",
   "execution_count": 2,
   "id": "32d3d6c9-603e-4aa2-b67c-85cf69a4fe9b",
   "metadata": {},
   "outputs": [
    {
     "name": "stdout",
     "output_type": "stream",
     "text": [
      "result of lst:  [(0, 0), (3, 1), (2, 2), (5, -1)]\n",
      "result of lst1:  [(0, 1), (1, 2), (4, 5), (7, 3)]\n",
      "result of lst2:  [(1, 1), (2, 0), (8, -3), (3, 2), (5, 5)]\n"
     ]
    }
   ],
   "source": [
    "# ANSWER\n",
    "\n",
    "def sort_tuples_by_sum(lst):\n",
    "\tsum_tuples = [(sum(t), t) for t in lst]\n",
    "\tsorted_sum_tuples = sorted(sum_tuples, key=lambda x: x[0])\n",
    "\treturn [t[1] for t in sorted_sum_tuples]\n",
    "\n",
    "lst = [(3,1),(2,2),(5,-1),(0,0)]\n",
    "print(\"result of lst: \", sort_tuples_by_sum(lst)) \n",
    "\n",
    "lst1 = [(7,3),(1,2),(4,5),(0,1)]\n",
    "print(\"result of lst1: \",sort_tuples_by_sum(lst1))\n",
    "\n",
    "lst2 = [(8,-3),(1,1),(2,0),(5,5),(3,2)]\n",
    "print(\"result of lst2: \",sort_tuples_by_sum(lst2)) "
   ]
  },
  {
   "cell_type": "raw",
   "id": "2fd1bdbd-1511-472b-99e1-582614522048",
   "metadata": {},
   "source": [
    "Q2) FILTER STRING BASED ON CRITERIA\n",
    "\n",
    "You are given a list of strings and two integers k and m. Write a function that returns a new list containing only those strings that satisfy both of the following conditions:\n",
    "1.\tThe length of the string is greater than or equal to k.\n",
    "2.\tThe string contains atleast m vowels (vowel: ‘a’,’e’,’I’,’o’,’u’)\n",
    "The output should maintain the original order of appearance in the input list.\n",
    "\n",
    "FUNCTION INPUT\n",
    "•\tA list of n strings.\n",
    "•\tAn integer k representing the minimum length of strings to include.\n",
    "•\tAn integer m representing the minimum number of vowels a string should have to be included.\n",
    "\n",
    "FUNCTION SIGNATURE\n",
    "Def filter_strings(lst: list[str],k: int, m: int) -> list[str]:\n",
    "Pass\n",
    "\n",
    "TEST CASES\n",
    "1.\tInput: [“apple”,”hi”,”word”,”yes”,”python”], k=4, m=2                   Output: [“apple”]\n",
    "2.\tInput: [“education”,”science”,”arts”,”mathematics”], k=5, m=3           Output:  [“education”,”science”,”mathematics”]\n"
   ]
  },
  {
   "cell_type": "code",
   "execution_count": null,
   "id": "a56d5fe1-1b07-4fc5-95c1-e1d964acb81d",
   "metadata": {},
   "outputs": [],
   "source": []
  }
 ],
 "metadata": {
  "kernelspec": {
   "display_name": "Python 3 (ipykernel)",
   "language": "python",
   "name": "python3"
  },
  "language_info": {
   "codemirror_mode": {
    "name": "ipython",
    "version": 3
   },
   "file_extension": ".py",
   "mimetype": "text/x-python",
   "name": "python",
   "nbconvert_exporter": "python",
   "pygments_lexer": "ipython3",
   "version": "3.12.4"
  }
 },
 "nbformat": 4,
 "nbformat_minor": 5
}
